{
 "cells": [
  {
   "cell_type": "code",
   "execution_count": null,
   "metadata": {},
   "outputs": [],
   "source": [
    "import pandas as pd\n",
    "import altair as alt\n",
    "from selenium import webdriver\n",
    "%matplotlib inline"
   ]
  },
  {
   "cell_type": "code",
   "execution_count": null,
   "metadata": {},
   "outputs": [],
   "source": [
    "df_esb = pd.read_csv(\"data/tidy_esb.csv\")"
   ]
  },
  {
   "cell_type": "code",
   "execution_count": null,
   "metadata": {},
   "outputs": [],
   "source": [
    "df_esb.info()"
   ]
  },
  {
   "cell_type": "code",
   "execution_count": null,
   "metadata": {},
   "outputs": [],
   "source": [
    "df_esb[\"date\"] = pd.to_datetime(df_esb[\"date\"])"
   ]
  },
  {
   "cell_type": "markdown",
   "metadata": {},
   "source": [
    "## 1) Total number of connections for each County"
   ]
  },
  {
   "cell_type": "code",
   "execution_count": null,
   "metadata": {},
   "outputs": [],
   "source": [
    "bars = alt.Chart(df_esb).mark_bar().encode(\n",
    "    x=alt.X('sum(esb):Q', stack='zero'),\n",
    "    y=alt.Y('County Councils:N'),\n",
    "    #color=alt.value('steelblue')\n",
    "    color='County Councils'\n",
    ").properties(\n",
    "    title = \"ESB connections for each County\")\n",
    "\n",
    "text = alt.Chart(df_esb).mark_text(dx=-20, dy=3, color='white').encode(\n",
    "    x=alt.X('sum(esb):Q', stack='zero'),\n",
    "    y=alt.Y('County Councils:N'),\n",
    "    detail='County Councils:N',\n",
    "    text=alt.Text('sum(esb):Q', format='.1f')\n",
    ")\n",
    "\n",
    "barplot = bars + text\n",
    "barplot"
   ]
  },
  {
   "cell_type": "markdown",
   "metadata": {},
   "source": [
    "## 2) Average trends of connections in each year"
   ]
  },
  {
   "cell_type": "code",
   "execution_count": null,
   "metadata": {},
   "outputs": [],
   "source": [
    "alt.Chart(df_esb).mark_line().encode(\n",
    " x = alt.X('date',\n",
    "     title=\"Year\"),\n",
    " y = alt.Y('esb',\n",
    "      aggregate = \"average\",\n",
    "     title=\"ESB Count\"),\n",
    " color = alt.value('green')\n",
    "\n",
    ").properties(\n",
    "    title = \"ESB connections Trend over the years\")\n"
   ]
  },
  {
   "cell_type": "markdown",
   "metadata": {},
   "source": [
    "## 3) Esb Connection distribution for every Council"
   ]
  },
  {
   "cell_type": "code",
   "execution_count": null,
   "metadata": {},
   "outputs": [],
   "source": [
    "alt.Chart(df_esb).mark_area().encode(\n",
    "    x='Year:O',\n",
    "    y=alt.Y(\n",
    "        'sum(esb):Q',\n",
    "        title='ESB Connections',\n",
    "        axis=alt.Axis(format='~s')\n",
    "    ),\n",
    "    facet=alt.Facet('County Councils:O', columns=4),\n",
    "    color = 'County Councils'\n",
    ").properties(\n",
    "    title='ESB Connections trend for each County',\n",
    ")"
   ]
  },
  {
   "cell_type": "markdown",
   "metadata": {},
   "source": [
    "## 4)Visualization to get Min,25%,Median(50%),75% and Max values of Esb Count for every year"
   ]
  },
  {
   "cell_type": "code",
   "execution_count": null,
   "metadata": {},
   "outputs": [],
   "source": [
    "alt.Chart(df_esb).mark_boxplot(size = 30).encode(\n",
    "    x=alt.X('Year:O',\n",
    "            title = 'Years'),\n",
    "    y=alt.Y('esb:Q',\n",
    "            title = 'ESB Count')\n",
    ").properties(width=350,title='Overview of ESB connections every year')"
   ]
  },
  {
   "cell_type": "code",
   "execution_count": null,
   "metadata": {},
   "outputs": [],
   "source": [
    "df_esb.loc[df_esb['date'].dt.month <= 6,'Half'] = 1\n",
    "df_esb.loc[df_esb['date'].dt.month > 6,'Half'] = 2"
   ]
  },
  {
   "cell_type": "markdown",
   "metadata": {},
   "source": [
    "## 5) Connections in 1st and 2nd half of each year. (use slider at the bottom of graph for particular year data)"
   ]
  },
  {
   "cell_type": "code",
   "execution_count": 1,
   "metadata": {},
   "outputs": [
    {
     "ename": "NameError",
     "evalue": "name 'alt' is not defined",
     "output_type": "error",
     "traceback": [
      "\u001b[0;31m---------------------------------------------------------------------------\u001b[0m",
      "\u001b[0;31mNameError\u001b[0m                                 Traceback (most recent call last)",
      "\u001b[0;32m<ipython-input-1-b693830044d0>\u001b[0m in \u001b[0;36m<module>\u001b[0;34m\u001b[0m\n\u001b[0;32m----> 1\u001b[0;31m \u001b[0mslider\u001b[0m \u001b[0;34m=\u001b[0m \u001b[0malt\u001b[0m\u001b[0;34m.\u001b[0m\u001b[0mbinding_range\u001b[0m\u001b[0;34m(\u001b[0m\u001b[0mmin\u001b[0m\u001b[0;34m=\u001b[0m\u001b[0;36m2006\u001b[0m\u001b[0;34m,\u001b[0m \u001b[0mmax\u001b[0m\u001b[0;34m=\u001b[0m\u001b[0;36m2013\u001b[0m\u001b[0;34m,\u001b[0m \u001b[0mstep\u001b[0m\u001b[0;34m=\u001b[0m\u001b[0;36m1\u001b[0m\u001b[0;34m)\u001b[0m\u001b[0;34m\u001b[0m\u001b[0;34m\u001b[0m\u001b[0m\n\u001b[0m\u001b[1;32m      2\u001b[0m select_year = alt.selection_single(name='Select', fields=['Year'],\n\u001b[1;32m      3\u001b[0m                                    bind=slider, init={'Year': 2006})\n\u001b[1;32m      4\u001b[0m \u001b[0;34m\u001b[0m\u001b[0m\n\u001b[1;32m      5\u001b[0m base = alt.Chart(df_esb).add_selection(\n",
      "\u001b[0;31mNameError\u001b[0m: name 'alt' is not defined"
     ]
    }
   ],
   "source": [
    "slider = alt.binding_range(min=2006, max=2013, step=1)\n",
    "select_year = alt.selection_single(name='Select', fields=['Year'],\n",
    "                                   bind=slider, init={'Year': 2006})\n",
    "\n",
    "base = alt.Chart(df_esb).add_selection(\n",
    "    select_year\n",
    ").transform_filter(\n",
    "    select_year\n",
    ").transform_calculate(\n",
    "    types=alt.expr.if_(alt.datum.Half == 1, '1st Half', '2nd Half')\n",
    ").properties(\n",
    "    width=250,\n",
    ")\n",
    "\n",
    "color_scale = alt.Scale(domain=['1st Half', '2nd Half'],\n",
    "                        range=['green', 'orange'])\n",
    "\n",
    "left = base.transform_filter(\n",
    "    alt.datum.types == '2nd Half'\n",
    ").encode(\n",
    "    y=alt.Y('County Councils:O', axis=None),\n",
    "    x=alt.X('sum(esb):Q',\n",
    "            title='ESB Count',\n",
    "            sort=alt.SortOrder('descending')),\n",
    "    color=alt.Color('types:N', scale=color_scale, legend=None),\n",
    "    tooltip = ('sum(esb):Q')\n",
    ").mark_bar().properties(title='First Half of Year')\n",
    "\n",
    "middle = base.encode(\n",
    "    y=alt.Y('County Councils:O', axis=None),\n",
    "    text=alt.Text('County Councils:O'),\n",
    ").mark_text(color = 'steelblue',size = 15).properties(width=105)\n",
    "\n",
    "\n",
    "right = base.transform_filter(\n",
    "            alt.datum.types == '1st Half'\n",
    "        ).encode(\n",
    "            y=alt.Y('County Councils:O', axis=None),\n",
    "            x=alt.X('sum(esb):Q', title='ESB Count'),\n",
    "            color=alt.Color('types:N', scale=color_scale, legend=None),\n",
    "            tooltip = ('sum(esb):Q')\n",
    "        ).mark_bar().properties(title='Second Half of Year')\n",
    "\n",
    "alt.concat(left, middle, right, spacing=5)"
   ]
  }
 ],
 "metadata": {
  "kernelspec": {
   "display_name": "Python 3",
   "language": "python",
   "name": "python3"
  },
  "language_info": {
   "codemirror_mode": {
    "name": "ipython",
    "version": 3
   },
   "file_extension": ".py",
   "mimetype": "text/x-python",
   "name": "python",
   "nbconvert_exporter": "python",
   "pygments_lexer": "ipython3",
   "version": "3.7.3"
  }
 },
 "nbformat": 4,
 "nbformat_minor": 2
}
